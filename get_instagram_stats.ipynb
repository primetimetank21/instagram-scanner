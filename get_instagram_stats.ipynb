{
 "cells": [
  {
   "cell_type": "markdown",
   "id": "9d07ec02-ab31-427b-ba90-eab54be13948",
   "metadata": {
    "jp-MarkdownHeadingCollapsed": true
   },
   "source": [
    "## Old Hope"
   ]
  },
  {
   "cell_type": "code",
   "execution_count": 1,
   "id": "1a2f7535",
   "metadata": {},
   "outputs": [],
   "source": [
    "import asyncio\n",
    "from playwright.async_api import async_playwright\n",
    "from time import sleep\n",
    "\n",
    "TIMED_SHUTDOWN: bool = True"
   ]
  },
  {
   "cell_type": "code",
   "execution_count": 2,
   "id": "abaf6d41",
   "metadata": {},
   "outputs": [],
   "source": [
    "def save_names(f_names, filename):\n",
    "    with open(filename, \"w\", encoding=\"utf-8\") as f:\n",
    "        for f_name in f_names:\n",
    "            f.write(f_name)\n",
    "\n",
    "\n",
    "# TODO:\n",
    "# figure out how to get rid of \"Verified\" when writing to file\n",
    "async def get_names(page, limit, filename):\n",
    "    await page.keyboard.press(\"Tab\")\n",
    "    await page.keyboard.press(\"Tab\")\n",
    "    await page.keyboard.press(\"Tab\")\n",
    "    await page.keyboard.press(\"Tab\")\n",
    "\n",
    "    f_names = set()\n",
    "    same_length_count: int = 0\n",
    "    f_names_old_length: int = 0\n",
    "\n",
    "    for i in range(limit):\n",
    "        for _ in range(20):\n",
    "            await page.keyboard.press(\"ArrowDown\")\n",
    "            sleep(1)\n",
    "\n",
    "        if i % 10 == 0:\n",
    "            tmp_name_list = await page.locator(\"role=link\").all_inner_texts()\n",
    "            f_names.update(tmp_name_list)\n",
    "            if len(f_names) >= limit:\n",
    "                break\n",
    "\n",
    "            if f_names_old_length == len(f_names):\n",
    "                same_length_count += 1\n",
    "                print(f\"stuck count: {same_length_count}\")\n",
    "            else:\n",
    "                same_length_count = 0\n",
    "                f_names_old_length = len(f_names)\n",
    "                print(f\"current length: {len(f_names)}\")\n",
    "\n",
    "            if same_length_count >= 3:\n",
    "                break\n",
    "\n",
    "        sleep(2)\n",
    "\n",
    "    tmp_name_list = await page.locator(\"role=link\").all_inner_texts()\n",
    "    f_names.update(tmp_name_list)\n",
    "\n",
    "    for name in (\"\", \"primetimetank_\", \"explore\", \"Verified\"):\n",
    "        try:\n",
    "            f_names.remove(name)\n",
    "        except:\n",
    "            continue\n",
    "\n",
    "    with open(filename, \"w\", encoding=\"utf-8\") as f:\n",
    "        for f_name in f_names:\n",
    "            f.write(f\"https://www.instagram.com/{f_name}\\n\")\n",
    "\n",
    "    f_names.clear()\n",
    "\n",
    "    with open(filename, \"r\", encoding=\"utf-8\") as f:\n",
    "        for f_name in f.readlines():\n",
    "            if f_name != \"Verified\":\n",
    "                f_names.add(f_name)\n",
    "\n",
    "    save_names(f_names=f_names, filename=filename)\n",
    "\n",
    "    return f_names\n",
    "\n",
    "\n",
    "async def run(playwright):\n",
    "    firefox = playwright.firefox\n",
    "    browser = await firefox.launch(headless=False)\n",
    "    context = await browser.new_context(storage_state=\"instagram.json\")\n",
    "    page = await context.new_page()\n",
    "    url = \"https://www.instagram.com/primetimetank_\"\n",
    "    await page.goto(url)\n",
    "    sleep(10)\n",
    "\n",
    "    followers_amount = await page.locator(\"text=followers\").all_inner_texts()\n",
    "    followers_amount = int(followers_amount[0].split(\" \")[0].replace(\",\", \"\"))\n",
    "\n",
    "    following_amount = await page.locator(\"text=following\").all_inner_texts()\n",
    "    following_amount = int(following_amount[0].split(\" \")[0].replace(\",\", \"\"))\n",
    "\n",
    "    await page.goto(f\"{url}/followers\")\n",
    "    sleep(4)\n",
    "\n",
    "    followers_names = await get_names(\n",
    "        page=page,\n",
    "        limit=followers_amount,\n",
    "        filename=\"followers_links.txt\",\n",
    "    )\n",
    "    print(f\"Followers: {len(followers_names)}\")\n",
    "\n",
    "    await page.goto(f\"{url}/following\")\n",
    "    sleep(4)\n",
    "    following_names = await get_names(\n",
    "        page=page,\n",
    "        limit=following_amount,\n",
    "        filename=\"following_links.txt\",\n",
    "    )\n",
    "    print(f\"Following: {len(following_names)}\")\n",
    "\n",
    "    not_following_me_back = following_names.difference(followers_names)\n",
    "    im_not_following_back = followers_names.difference(following_names)\n",
    "\n",
    "    print(f\"Not following me back: {len(not_following_me_back)}\")\n",
    "    save_names(f_names=not_following_me_back, filename=\"not_following_me_back.txt\")\n",
    "\n",
    "    print(f\"I'm not following back: {len(im_not_following_back)}\")\n",
    "    save_names(f_names=im_not_following_back, filename=\"im_not_following_back.txt\")\n",
    "\n",
    "    await context.close()\n",
    "    await browser.close()\n",
    "\n",
    "\n",
    "async def main():\n",
    "    async with async_playwright() as playwright:\n",
    "        await run(playwright)"
   ]
  },
  {
   "cell_type": "code",
   "execution_count": 3,
   "id": "2113f02c",
   "metadata": {},
   "outputs": [],
   "source": [
    "# async with async_playwright() as playwright:\n",
    "#     firefox = playwright.firefox\n",
    "#     browser = await firefox.launch(headless=False)\n",
    "#     context = await browser.new_context(storage_state=\"instagram.json\")\n",
    "#     page = await context.new_page()\n",
    "#     url = \"https://www.instagram.com/primetimetank_\"\n",
    "#     await page.goto(url)"
   ]
  },
  {
   "cell_type": "code",
   "execution_count": 4,
   "id": "8e9a66ee",
   "metadata": {},
   "outputs": [],
   "source": [
    "# firefox"
   ]
  },
  {
   "cell_type": "code",
   "execution_count": 6,
   "id": "a8b0d4ff",
   "metadata": {},
   "outputs": [],
   "source": [
    "pr = await async_playwright().start()\n",
    "firefox = pr.firefox\n",
    "browser = await firefox.launch(headless=False)\n",
    "context = await browser.new_context(storage_state=\"instagram.json\")\n",
    "page = await context.new_page()\n",
    "url = \"https://www.instagram.com/primetimetank_\"\n",
    "await page.goto(url)\n",
    "sleep(15)"
   ]
  },
  {
   "cell_type": "code",
   "execution_count": 7,
   "id": "11af8a41-2c5e-4fcc-ab43-8a1edf05e06a",
   "metadata": {},
   "outputs": [],
   "source": [
    "cookies = await context.cookies()\n",
    "ds_user_id:str = \"\""
   ]
  },
  {
   "cell_type": "code",
   "execution_count": 8,
   "id": "9ea64757-40bb-4aa6-8e2d-287e15c42287",
   "metadata": {},
   "outputs": [
    {
     "name": "stdout",
     "output_type": "stream",
     "text": [
      "{'name': 'ds_user_id', 'value': '462306021', 'domain': '.instagram.com', 'path': '/', 'expires': 1735142663, 'httpOnly': False, 'secure': True, 'sameSite': 'None'}\n",
      "ds_user_id : 462306021\n"
     ]
    }
   ],
   "source": [
    "# TODO: left off here\n",
    "for cookie in cookies:\n",
    "    if cookie[\"name\"] == \"ds_user_id\":\n",
    "        print(cookie)\n",
    "        print(cookie[\"name\"],\":\",cookie[\"value\"])\n",
    "        ds_user_id = cookie[\"value\"]\n",
    "        break"
   ]
  },
  {
   "cell_type": "code",
   "execution_count": 69,
   "id": "c91fae64",
   "metadata": {},
   "outputs": [],
   "source": [
    "followers_amount = await page.locator(\"text=followers\").all_inner_texts()\n",
    "followers_amount = int(followers_amount[0].split(\" \")[0].replace(\",\", \"\"))\n",
    "\n",
    "following_amount = await page.locator(\"text=following\").all_inner_texts()\n",
    "following_amount = int(following_amount[0].split(\" \")[0].replace(\",\", \"\"))"
   ]
  },
  {
   "cell_type": "code",
   "execution_count": 70,
   "id": "7500ed1e",
   "metadata": {},
   "outputs": [
    {
     "data": {
      "text/plain": [
       "(1461, 976)"
      ]
     },
     "execution_count": 70,
     "metadata": {},
     "output_type": "execute_result"
    }
   ],
   "source": [
    "followers_amount, following_amount"
   ]
  },
  {
   "cell_type": "code",
   "execution_count": 8,
   "id": "b09abead",
   "metadata": {},
   "outputs": [
    {
     "data": {
      "text/plain": [
       "<Response url='https://www.instagram.com/primetimetank_/followers' request=<Request url='https://www.instagram.com/primetimetank_/followers' method='GET'>>"
      ]
     },
     "execution_count": 8,
     "metadata": {},
     "output_type": "execute_result"
    }
   ],
   "source": [
    "await page.goto(f\"{url}/followers\")\n",
    "sleep(15)"
   ]
  },
  {
   "cell_type": "code",
   "execution_count": 15,
   "id": "d5f3df10-5aff-4745-898c-c7c909fc6ea0",
   "metadata": {},
   "outputs": [],
   "source": [
    "await page.locator(\"text=followers\").click()\n",
    "sleep(5)"
   ]
  },
  {
   "cell_type": "code",
   "execution_count": 16,
   "id": "3d5519f9",
   "metadata": {},
   "outputs": [
    {
     "name": "stdout",
     "output_type": "stream",
     "text": [
      "current length: 21\n",
      "current length: 172\n",
      "current length: 328\n",
      "current length: 474\n",
      "current length: 621\n",
      "current length: 773\n",
      "current length: 920\n",
      "current length: 1070\n",
      "current length: 1229\n",
      "current length: 1375\n",
      "current length: 1470\n",
      "stuck count: 1\n",
      "stuck count: 2\n",
      "stuck count: 3\n",
      "Followers: 1469\n"
     ]
    }
   ],
   "source": [
    "followers_names = await get_names(\n",
    "    page=page,\n",
    "    # text=\"Followers\",\n",
    "    # nth=-2,\n",
    "    limit=followers_amount,\n",
    "    filename=\"followers_links.txt\",\n",
    ")\n",
    "print(f\"Followers: {len(followers_names)}\")"
   ]
  },
  {
   "cell_type": "code",
   "execution_count": 17,
   "id": "38cbfb96",
   "metadata": {},
   "outputs": [],
   "source": [
    "await page.goto(f\"{url}/following\")\n",
    "sleep(15)"
   ]
  },
  {
   "cell_type": "code",
   "execution_count": 18,
   "id": "512cd364-23f1-42a5-89c1-9aa8c7052b05",
   "metadata": {},
   "outputs": [],
   "source": [
    "await page.locator(\"text=following\").click()\n",
    "sleep(5)"
   ]
  },
  {
   "cell_type": "code",
   "execution_count": 19,
   "id": "1f3913ff",
   "metadata": {
    "scrolled": true
   },
   "outputs": [
    {
     "name": "stdout",
     "output_type": "stream",
     "text": [
      "current length: 25\n",
      "current length: 181\n",
      "current length: 325\n",
      "current length: 469\n",
      "current length: 625\n",
      "current length: 769\n",
      "current length: 917\n",
      "current length: 970\n",
      "stuck count: 1\n",
      "stuck count: 2\n",
      "stuck count: 3\n",
      "Following: 969\n"
     ]
    }
   ],
   "source": [
    "following_names = await get_names(\n",
    "    page=page,\n",
    "    # text=\"Following\",\n",
    "    # nth=3,\n",
    "    limit=following_amount,\n",
    "    filename=\"following_links.txt\",\n",
    ")\n",
    "print(f\"Following: {len(following_names)}\")"
   ]
  },
  {
   "cell_type": "code",
   "execution_count": 20,
   "id": "4d188533",
   "metadata": {},
   "outputs": [
    {
     "name": "stdout",
     "output_type": "stream",
     "text": [
      "Not following me back: 71\n",
      "I'm not following back: 571\n"
     ]
    }
   ],
   "source": [
    "not_following_me_back = following_names.difference(followers_names)\n",
    "im_not_following_back = followers_names.difference(following_names)\n",
    "\n",
    "print(f\"Not following me back: {len(not_following_me_back)}\")\n",
    "save_names(f_names=not_following_me_back, filename=\"not_following_me_back.txt\")\n",
    "\n",
    "print(f\"I'm not following back: {len(im_not_following_back)}\")\n",
    "save_names(f_names=im_not_following_back, filename=\"im_not_following_back.txt\")"
   ]
  },
  {
   "cell_type": "code",
   "execution_count": 38,
   "id": "002e79fc",
   "metadata": {},
   "outputs": [],
   "source": [
    "await context.close()\n",
    "await browser.close()"
   ]
  },
  {
   "cell_type": "code",
   "execution_count": 24,
   "id": "7efbe1a6-c76e-4ecd-ad99-7300e8ff865a",
   "metadata": {},
   "outputs": [
    {
     "name": "stdout",
     "output_type": "stream",
     "text": [
      "\u001b[6n"
     ]
    }
   ],
   "source": [
    "if TIMED_SHUTDOWN:\n",
    "    !shutdown.exe -s -t 5"
   ]
  },
  {
   "cell_type": "markdown",
   "id": "d7d856f6-aa26-45c1-af93-251059db6c1b",
   "metadata": {},
   "source": [
    "## A New Hope"
   ]
  },
  {
   "cell_type": "markdown",
   "id": "16e710c3-6eff-442d-b243-3e32f125f561",
   "metadata": {},
   "source": [
    "### Imports"
   ]
  },
  {
   "cell_type": "code",
   "execution_count": 16,
   "id": "55e3c99b-395d-47be-aecc-a5e22d845559",
   "metadata": {},
   "outputs": [],
   "source": [
    "import asyncio\n",
    "from typing import List, Dict\n",
    "from playwright.async_api import async_playwright\n",
    "from time import sleep\n",
    "# from bs4 import BeautifulSoup\n",
    "import requests\n",
    "import json\n",
    "from pathlib import Path"
   ]
  },
  {
   "cell_type": "markdown",
   "id": "66f9228e-edb8-4a30-b6f0-271b59a7bc00",
   "metadata": {},
   "source": [
    "### Initialization"
   ]
  },
  {
   "cell_type": "code",
   "execution_count": 31,
   "id": "50e288e3-7732-416e-8ca1-c93aa6b613af",
   "metadata": {},
   "outputs": [],
   "source": [
    "COUNT = 100\n",
    "max_id:str = \"\"\n",
    "x_ig_app_id:str = \"\"\n",
    "x_asbd_id:str = \"\"\n",
    "instagram_users = {\"followers\": [], \"following\": []}"
   ]
  },
  {
   "cell_type": "code",
   "execution_count": 32,
   "id": "e697d727-9b2e-49c6-820f-ac3cc0c4cd4b",
   "metadata": {},
   "outputs": [],
   "source": [
    "pr = await async_playwright().start()\n",
    "firefox = pr.firefox\n",
    "browser = await firefox.launch(headless=False)\n",
    "context = await browser.new_context(storage_state=\"instagram.json\")\n",
    "page = await context.new_page()\n",
    "url = \"https://www.instagram.com/primetimetank_\"\n",
    "await page.goto(url)\n",
    "cookies:List[Dict[str,str]] = await context.cookies()"
   ]
  },
  {
   "cell_type": "markdown",
   "id": "fd6a4512-ff1e-40c7-ac66-aedc28db9656",
   "metadata": {},
   "source": [
    "### Get Cookies"
   ]
  },
  {
   "cell_type": "code",
   "execution_count": 33,
   "id": "a4cb5b50-7034-40ae-acd4-28e8ae62c5ff",
   "metadata": {},
   "outputs": [],
   "source": [
    "ds_user_id:str = \"\"\n",
    "\n",
    "for cookie in cookies:\n",
    "    # print(f\"{cookie['name']:<20}:\\t\\t{cookie['value'][:25]}\")\n",
    "    if cookie[\"name\"] == \"ds_user_id\":\n",
    "        # print(cookie)\n",
    "        # print(cookie[\"name\"],\":\",cookie[\"value\"])\n",
    "        ds_user_id = cookie[\"value\"]\n",
    "\n",
    "# Reformat the cookies\n",
    "cookie_dict:Dict[str,str] = {cookie[\"name\"]: cookie[\"value\"] for cookie in cookies}"
   ]
  },
  {
   "cell_type": "markdown",
   "id": "6c341499-ff78-4d74-b3b9-7aaac2df3c13",
   "metadata": {},
   "source": [
    "### Get Expected User Amounts"
   ]
  },
  {
   "cell_type": "code",
   "execution_count": 34,
   "id": "aadedbe6-84d0-4d9a-8da3-1d3ea91315de",
   "metadata": {},
   "outputs": [
    {
     "data": {
      "text/plain": [
       "(1460, 976)"
      ]
     },
     "execution_count": 34,
     "metadata": {},
     "output_type": "execute_result"
    }
   ],
   "source": [
    "followers_amount = await page.locator(\"text=followers\").all_inner_texts()\n",
    "followers_amount = int(followers_amount[0].split(\" \")[0].replace(\",\", \"\"))\n",
    "\n",
    "following_amount = await page.locator(\"text=following\").all_inner_texts()\n",
    "following_amount = int(following_amount[0].split(\" \")[0].replace(\",\", \"\"))\n",
    "\n",
    "followers_amount, following_amount"
   ]
  },
  {
   "cell_type": "code",
   "execution_count": null,
   "id": "9315a0d4-d540-4ee4-be59-14ef377033f9",
   "metadata": {},
   "outputs": [],
   "source": [
    "# for cookie in cookies:\n",
    "#     print(f\"{cookie['name']:<20}:\\t\\t{cookie['value'][:50]}\")"
   ]
  },
  {
   "cell_type": "code",
   "execution_count": 37,
   "id": "2e2db51d-f4c0-4c53-81a9-be4b89f4cfb1",
   "metadata": {},
   "outputs": [],
   "source": [
    "# type(cookies)\n",
    "# cookies #type: list\n",
    "# cookie_dict = {cookie[\"name\"]: cookie[\"value\"] for cookie in cookies}\n",
    "# cookie_dict"
   ]
  },
  {
   "cell_type": "markdown",
   "id": "781b4a40-fe61-4588-9808-39ee96cb0051",
   "metadata": {},
   "source": [
    "### Get `X-IG-App-ID` header for request"
   ]
  },
  {
   "cell_type": "code",
   "execution_count": 35,
   "id": "43a1482e-7de8-4d71-8ac0-c646b741e2e0",
   "metadata": {},
   "outputs": [],
   "source": [
    "# TODO: move this before first request\n",
    "a_handle = await page.evaluate_handle(\"document.body\")\n",
    "result_handle = await page.evaluate_handle(\"body => body.innerHTML\", a_handle)\n",
    "s = await result_handle.json_value()\n",
    "# print(await result_handle.json_value())\n",
    "await result_handle.dispose()"
   ]
  },
  {
   "cell_type": "code",
   "execution_count": 36,
   "id": "132ed888-6a36-46ff-8a8e-e58cd486c7ff",
   "metadata": {},
   "outputs": [
    {
     "name": "stdout",
     "output_type": "stream",
     "text": [
      "936619743392459\n"
     ]
    }
   ],
   "source": [
    "if \"X-IG-App-ID\" in s:\n",
    "    starting_index:int = s.index(\"X-IG-App-ID\")\n",
    "    end_index:int = s[starting_index:starting_index+50].index(\"}\")\n",
    "    x_ig_app_id = str(int(s[starting_index:starting_index+end_index].split(\",\")[0].split(\":\")[1].replace('\"',\"\").replace('\"',\"\")))\n",
    "    print(x_ig_app_id)"
   ]
  },
  {
   "cell_type": "markdown",
   "id": "3a1df252-140b-4868-9b1a-08bc56a59c60",
   "metadata": {},
   "source": [
    "### Send Request"
   ]
  },
  {
   "cell_type": "code",
   "execution_count": 37,
   "id": "5adcd949-4639-4fec-ae52-c982e74ec842",
   "metadata": {},
   "outputs": [
    {
     "name": "stdout",
     "output_type": "stream",
     "text": [
      "Updated instagram_users for followers (current length: 21)\n",
      "Updated instagram_users for followers (current length: 44)\n",
      "Updated instagram_users for followers (current length: 67)\n",
      "Updated instagram_users for followers (current length: 90)\n",
      "Updated instagram_users for followers (current length: 112)\n",
      "Updated instagram_users for followers (current length: 137)\n",
      "Updated instagram_users for followers (current length: 155)\n",
      "Updated instagram_users for followers (current length: 177)\n",
      "Updated instagram_users for followers (current length: 196)\n",
      "Updated instagram_users for followers (current length: 220)\n",
      "Updated instagram_users for followers (current length: 244)\n",
      "Updated instagram_users for followers (current length: 268)\n",
      "Updated instagram_users for followers (current length: 293)\n",
      "Updated instagram_users for followers (current length: 312)\n",
      "Updated instagram_users for followers (current length: 333)\n",
      "Updated instagram_users for followers (current length: 354)\n",
      "Updated instagram_users for followers (current length: 379)\n",
      "Updated instagram_users for followers (current length: 404)\n",
      "Updated instagram_users for followers (current length: 428)\n",
      "Updated instagram_users for followers (current length: 451)\n",
      "Updated instagram_users for followers (current length: 474)\n",
      "Updated instagram_users for followers (current length: 497)\n",
      "Updated instagram_users for followers (current length: 522)\n",
      "Updated instagram_users for followers (current length: 546)\n",
      "Updated instagram_users for followers (current length: 568)\n",
      "Updated instagram_users for followers (current length: 591)\n",
      "Updated instagram_users for followers (current length: 614)\n",
      "Updated instagram_users for followers (current length: 639)\n",
      "Updated instagram_users for followers (current length: 663)\n",
      "Updated instagram_users for followers (current length: 687)\n",
      "Updated instagram_users for followers (current length: 712)\n",
      "Updated instagram_users for followers (current length: 737)\n",
      "Updated instagram_users for followers (current length: 761)\n",
      "Updated instagram_users for followers (current length: 785)\n",
      "Updated instagram_users for followers (current length: 808)\n",
      "Updated instagram_users for followers (current length: 833)\n",
      "Updated instagram_users for followers (current length: 857)\n",
      "Updated instagram_users for followers (current length: 881)\n",
      "Updated instagram_users for followers (current length: 903)\n",
      "Updated instagram_users for followers (current length: 926)\n",
      "Updated instagram_users for followers (current length: 949)\n",
      "Updated instagram_users for followers (current length: 973)\n",
      "Updated instagram_users for followers (current length: 998)\n",
      "Updated instagram_users for followers (current length: 1022)\n",
      "Updated instagram_users for followers (current length: 1045)\n",
      "Updated instagram_users for followers (current length: 1068)\n",
      "Updated instagram_users for followers (current length: 1092)\n",
      "Updated instagram_users for followers (current length: 1116)\n",
      "Updated instagram_users for followers (current length: 1139)\n",
      "Updated instagram_users for followers (current length: 1163)\n",
      "Updated instagram_users for followers (current length: 1184)\n",
      "Updated instagram_users for followers (current length: 1208)\n",
      "Updated instagram_users for followers (current length: 1233)\n",
      "Updated instagram_users for followers (current length: 1257)\n",
      "Updated instagram_users for followers (current length: 1281)\n",
      "Updated instagram_users for followers (current length: 1305)\n",
      "Updated instagram_users for followers (current length: 1327)\n",
      "Updated instagram_users for followers (current length: 1349)\n",
      "Updated instagram_users for followers (current length: 1373)\n",
      "Updated instagram_users for followers (current length: 1398)\n",
      "Updated instagram_users for followers (current length: 1423)\n",
      "Updated instagram_users for followers (current length: 1446)\n",
      "Updated instagram_users for followers (current length: 1461)\n",
      "'next_max_id'\n",
      "Got stuck: 1\n",
      "Updated instagram_users for following (current length: 100)\n",
      "Updated instagram_users for following (current length: 200)\n",
      "Updated instagram_users for following (current length: 300)\n",
      "Updated instagram_users for following (current length: 400)\n",
      "Updated instagram_users for following (current length: 500)\n",
      "Updated instagram_users for following (current length: 600)\n",
      "Updated instagram_users for following (current length: 700)\n",
      "Updated instagram_users for following (current length: 800)\n",
      "Updated instagram_users for following (current length: 900)\n",
      "Updated instagram_users for following (current length: 976)\n",
      "'next_max_id'\n",
      "Got stuck: 1\n"
     ]
    }
   ],
   "source": [
    "for key in instagram_users.keys():\n",
    "# for key in [\"following\"]:\n",
    "    user_count:int = 0\n",
    "    expected_max_users:int = -1\n",
    "    stuck_count:int = 0\n",
    "    # has_more:bool = True\n",
    "    \n",
    "    if key==\"followers\":\n",
    "        expected_max_users = followers_amount\n",
    "    elif key == \"following\":\n",
    "        expected_max_users = following_amount\n",
    "    else:\n",
    "        raise Exception(\"Error: Invalid key (should be 'followers' or 'following'\")\n",
    "\n",
    "    # TODO: think about max_id as well\n",
    "    while all([user_count < expected_max_users, stuck_count < 5]):\n",
    "        headers = {\n",
    "            'User-Agent': 'Mozilla/5.0 (Windows NT 10.0; Win64; x64; rv:130.0) Gecko/20100101 Firefox/130.0',\n",
    "            'Accept': '*/*',\n",
    "            'Accept-Language': 'en-US,en;q=0.5',\n",
    "            # 'Accept-Encoding': 'gzip, deflate, br, zstd',\n",
    "            \n",
    "            # 'X-CSRFToken': 'pDsZRt6b2nEbFGNml8lRYqaGoPdSrYaI',\n",
    "            # 'X-IG-App-ID': '936619743392459',\n",
    "            'X-IG-App-ID': x_ig_app_id,\n",
    "            # 'X-ASBD-ID': '129477',\n",
    "            # 'X-IG-WWW-Claim': 'hmac.AR1Jpv_YBocGDWkC94CGCH0NmZzE5k5vqnemRiLTQjt7PrjC',\n",
    "            \n",
    "            'X-Requested-With': 'XMLHttpRequest',\n",
    "            'Alt-Used': 'www.instagram.com',\n",
    "            'Connection': 'keep-alive',\n",
    "            'Referer': f'https://www.instagram.com/primetimetank_/{key}/',\n",
    "            # 'Cookie': 'csrftoken=pDsZRt6b2nEbFGNml8lRYqaGoPdSrYaI; mid=ZtZ85gALAAESN8NIkokirz8K-FF3; datr=5nzWZh52P16wwD-Pm-yDAswC; ig_did=64F3AF16-D093-4BA8-B45C-DDF8F6D0858E; ig_nrcb=1; ds_user_id=462306021; sessionid=462306021%3A9FVsXC1BtaURuO%3A11%3AAYez3fX-ylI8-Zbhaoig6lzg4VHimLpVoVvUAeFZEw; ps_l=1; ps_n=1; shbid=\"4118\\\\054462306021\\\\0541758830867:01f7c71df583cfeb66704de42335bceed6e6c2bab534ac91b5a2f741a3a50192f448f849\"; shbts=\"1727294867\\\\054462306021\\\\0541758830867:01f7ec62e942af9376c0501508a0e29def34a6e9ef706c865ce43ddf882aa21a830a968c\"; rur=\"CCO\\\\054462306021\\\\0541758830926:01f78d2e42983910bd75fe6b668be8feb8b766f75ddfc70cbe610f8ed5d797a23dda64e6\"; wd=1920x509',\n",
    "            'Sec-Fetch-Dest': 'empty',\n",
    "            'Sec-Fetch-Mode': 'cors',\n",
    "            'Sec-Fetch-Site': 'same-origin',\n",
    "            # Requests doesn't support trailers\n",
    "            # 'TE': 'trailers',\n",
    "        }\n",
    "        \n",
    "        params = {\n",
    "            # 'count': '100',\n",
    "            'count': COUNT,\n",
    "            # 'max_id': 'QVFDczNtemVwQ2oydFJVemJ3UUxWaGI1N3RIT0x1cjFZbGlMejhkMGcxdnVyOE04ZVpPQmt5VUVUTkk1Vm5CZkRvd0l3clJyVm5YMDJjT1g0Tmo0WTVPag==',\n",
    "            'max_id': max_id,\n",
    "            'search_surface': 'follow_list_page',\n",
    "        }\n",
    "\n",
    "        try:\n",
    "            response = requests.get(\n",
    "                # 'https://www.instagram.com/api/v1/friendships/462306021/followers/',\n",
    "                f'https://www.instagram.com/api/v1/friendships/{ds_user_id}/{key}/',\n",
    "                params=params,\n",
    "                cookies=cookie_dict,\n",
    "                headers=headers,\n",
    "            )\n",
    "\n",
    "\n",
    "            response_dict = response.json()            \n",
    "\n",
    "            instagram_users[key] += response_dict[\"users\"]\n",
    "            user_count = len(instagram_users[key])\n",
    "            \n",
    "            with open(\"instagram_users.json\",\"w\",encoding=\"utf-8\") as f:\n",
    "                json.dump(instagram_users, f, indent=4)\n",
    "\n",
    "            print(f\"Updated instagram_users for {key} (current length: {user_count})\")\n",
    "\n",
    "            # prepare for next loop iteration\n",
    "            # has_more = response_dict[\"has_more\"]\n",
    "            max_id = response_dict[\"next_max_id\"]\n",
    "            stuck_count = 0\n",
    "            \n",
    "        except Exception as e:\n",
    "            # print(e.with_traceback())\n",
    "            print(e)\n",
    "            stuck_count += 1\n",
    "            print(f\"Got stuck: {stuck_count}\")\n",
    "        finally:\n",
    "            sleep(5)\n",
    "        "
   ]
  },
  {
   "cell_type": "markdown",
   "id": "f78539ad-2b4a-4cc3-bbd7-6e167103442a",
   "metadata": {},
   "source": [
    "### Get Intersections"
   ]
  },
  {
   "cell_type": "code",
   "execution_count": 26,
   "id": "41f34b58-51d9-4a00-8911-979fc23ce588",
   "metadata": {},
   "outputs": [
    {
     "data": {
      "text/plain": [
       "dict_keys(['users', 'big_list', 'page_size', 'next_max_id', 'has_more', 'should_limit_list_of_followers', 'use_clickable_see_more', 'show_spam_follow_request_tab', 'status'])"
      ]
     },
     "execution_count": 26,
     "metadata": {},
     "output_type": "execute_result"
    }
   ],
   "source": [
    "response.json().keys()"
   ]
  },
  {
   "cell_type": "code",
   "execution_count": 27,
   "id": "25bb27d2-bc9c-4142-942d-66029259da18",
   "metadata": {},
   "outputs": [
    {
     "data": {
      "text/plain": [
       "False"
      ]
     },
     "execution_count": 27,
     "metadata": {},
     "output_type": "execute_result"
    }
   ],
   "source": [
    "response.json()[\"has_more\"]"
   ]
  },
  {
   "cell_type": "markdown",
   "id": "53831312-017a-4812-800c-de25c0a2283a",
   "metadata": {},
   "source": [
    "### Analyze Response"
   ]
  },
  {
   "cell_type": "code",
   "execution_count": 4,
   "id": "7992d35c-02f2-42e1-994b-cb7e0db6fbca",
   "metadata": {},
   "outputs": [],
   "source": [
    "with open(\"instagram_users.json\",\"r\",encoding=\"utf-8\") as f:\n",
    "    user_dict = json.load(f)"
   ]
  },
  {
   "cell_type": "code",
   "execution_count": 5,
   "id": "e42f1385-167b-4ad3-b278-2823c49d3afd",
   "metadata": {},
   "outputs": [
    {
     "data": {
      "text/plain": [
       "(1461, 976)"
      ]
     },
     "execution_count": 5,
     "metadata": {},
     "output_type": "execute_result"
    }
   ],
   "source": [
    "len(user_dict[\"followers\"]), len(user_dict[\"following\"])"
   ]
  },
  {
   "cell_type": "code",
   "execution_count": 9,
   "id": "c08fc09d-ca1f-4562-a1a1-fd3ad02b3ac8",
   "metadata": {},
   "outputs": [],
   "source": [
    "not_following_me_back:List[dict] = []"
   ]
  },
  {
   "cell_type": "code",
   "execution_count": null,
   "id": "3007d3fb-0c4f-4815-8ed5-428f0e580354",
   "metadata": {},
   "outputs": [],
   "source": [
    "for instagram_user_im_following in user_dict[\"following\"]:\n",
    "    user_name_im_following = instagram_user_im_following[\"username\"]\n",
    "    # print(user_name_im_following, end=\" \")\n",
    "    is_following_me_back:bool = False\n",
    "    for instagram_follower in user_dict[\"followers\"]:\n",
    "        if user_name_im_following == instagram_follower[\"username\"]:\n",
    "            is_following_me_back = True\n",
    "            break\n",
    "    if not is_following_me_back:\n",
    "        not_following_me_back.append(instagram_user_im_following)\n",
    "        # print(f\"{user_name_im_following} is not following me back :(\")\n",
    "    # print(\"is not following me back :(\") if not is_following_me_back else print(\"is following me!\")\n",
    "\n",
    "len(not_following_me_back)"
   ]
  },
  {
   "cell_type": "code",
   "execution_count": 14,
   "id": "92c2711a-93d9-46d4-9f96-d8d917c922f4",
   "metadata": {},
   "outputs": [],
   "source": [
    "im_not_following_back:List[dict] = []"
   ]
  },
  {
   "cell_type": "code",
   "execution_count": null,
   "id": "c0885e36-3f40-4923-b5a4-2ab0459f0eb3",
   "metadata": {},
   "outputs": [],
   "source": [
    "for instagram_user_following_me in user_dict[\"followers\"]:\n",
    "    user_name_following_me = instagram_user_following_me[\"username\"]\n",
    "    im_following_back:bool = False\n",
    "    for instagram_following in user_dict[\"following\"]:\n",
    "        if user_name_following_me == instagram_following[\"username\"]:\n",
    "            im_following_back = True\n",
    "            break\n",
    "    if not im_following_back:\n",
    "        im_not_following_back.append(instagram_user_following_me)\n",
    "        # print(f\"{user_name_following_me} is someone I'm not following back\")\n",
    "\n",
    "len(im_not_following_back)"
   ]
  },
  {
   "cell_type": "code",
   "execution_count": 17,
   "id": "2f89cbd9-ce64-4b16-b09c-68c3d18b6f0c",
   "metadata": {},
   "outputs": [],
   "source": [
    "instagram_stats_dir = Path(Path.cwd(), \"statistics\")\n",
    "instagram_stats_dir.mkdir(exist_ok=True, parents=True)"
   ]
  },
  {
   "cell_type": "code",
   "execution_count": 18,
   "id": "06759fbc-f95a-4420-9e6f-44458c065438",
   "metadata": {},
   "outputs": [],
   "source": [
    "with open(Path(instagram_stats_dir, \"not_following_me_back.txt\"),\"w\",encoding=\"utf-8\") as f:\n",
    "    for instagram_user in not_following_me_back:\n",
    "        user_name = instagram_user[\"username\"]\n",
    "        f.write(f\"https://www.instagram.com/{user_name}\\n\")"
   ]
  },
  {
   "cell_type": "code",
   "execution_count": 19,
   "id": "e6c1a3d3-0770-483e-a9e8-ecf409e22966",
   "metadata": {},
   "outputs": [],
   "source": [
    "with open(Path(instagram_stats_dir, \"im_not_following_back.txt\"),\"w\",encoding=\"utf-8\") as f:\n",
    "    for instagram_user in im_not_following_back:\n",
    "        user_name = instagram_user[\"username\"]\n",
    "        f.write(f\"https://www.instagram.com/{user_name}\\n\")"
   ]
  },
  {
   "cell_type": "code",
   "execution_count": null,
   "id": "c03e6d1a-3faa-486f-a0d6-6ae6422a704e",
   "metadata": {},
   "outputs": [],
   "source": []
  }
 ],
 "metadata": {
  "kernelspec": {
   "display_name": "Python 3 (ipykernel)",
   "language": "python",
   "name": "python3"
  },
  "language_info": {
   "codemirror_mode": {
    "name": "ipython",
    "version": 3
   },
   "file_extension": ".py",
   "mimetype": "text/x-python",
   "name": "python",
   "nbconvert_exporter": "python",
   "pygments_lexer": "ipython3",
   "version": "3.8.10"
  }
 },
 "nbformat": 4,
 "nbformat_minor": 5
}
