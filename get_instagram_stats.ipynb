{
 "cells": [
  {
   "cell_type": "code",
   "execution_count": 1,
   "id": "1a2f7535",
   "metadata": {},
   "outputs": [],
   "source": [
    "import asyncio\n",
    "from playwright.async_api import async_playwright\n",
    "from time import sleep\n",
    "\n"
   ]
  },
  {
   "cell_type": "code",
   "execution_count": 69,
   "id": "abaf6d41",
   "metadata": {},
   "outputs": [],
   "source": [
    "def save_names(f_names, filename):\n",
    "    with open(filename, \"w\", encoding=\"utf-8\") as f:\n",
    "        for f_name in f_names:\n",
    "            f.write(f_name)\n",
    "\n",
    "\n",
    "# TODO:\n",
    "# figure out how to get rid of \"Verified\" when writing to file\n",
    "async def get_names(page, limit, filename):\n",
    "    await page.keyboard.press(\"Tab\")\n",
    "    await page.keyboard.press(\"Tab\")\n",
    "\n",
    "    f_names = set()\n",
    "\n",
    "    for i in range(limit):\n",
    "        for _ in range(50):\n",
    "            await page.keyboard.press(\"ArrowDown\")\n",
    "\n",
    "        if i % 10 == 0:\n",
    "            tmp_name_list = await page.locator(\"role=link\").all_inner_texts()\n",
    "            f_names.update(tmp_name_list)\n",
    "            if len(f_names) >= limit:\n",
    "                break\n",
    "\n",
    "        sleep(0.75)\n",
    "\n",
    "    tmp_name_list = await page.locator(\"role=link\").all_inner_texts()\n",
    "    f_names.update(tmp_name_list)\n",
    "\n",
    "    for name in (\"\", \"primetimetank_\", \"explore\", \"Verified\"):\n",
    "        try:\n",
    "            f_names.remove(name)\n",
    "        except:\n",
    "            continue\n",
    "\n",
    "    with open(filename, \"w\", encoding=\"utf-8\") as f:\n",
    "        for f_name in f_names:\n",
    "            f.write(f\"https://www.instagram.com/{f_name}\\n\")\n",
    "\n",
    "    f_names.clear()\n",
    "\n",
    "    with open(filename, \"r\", encoding=\"utf-8\") as f:\n",
    "        for f_name in f.readlines():\n",
    "            if f_name != \"Verified\":\n",
    "                f_names.add(f_name)\n",
    "\n",
    "    save_names(f_names=f_names, filename=filename)\n",
    "\n",
    "    return f_names\n",
    "\n",
    "\n",
    "async def run(playwright):\n",
    "    firefox = playwright.firefox\n",
    "    browser = await firefox.launch(headless=False)\n",
    "    context = await browser.new_context(storage_state=\"instagram.json\")\n",
    "    page = await context.new_page()\n",
    "    url = \"https://www.instagram.com/primetimetank_\"\n",
    "    await page.goto(url)\n",
    "    sleep(10)\n",
    "\n",
    "    followers_amount = await page.locator(\"text=followers\").all_inner_texts()\n",
    "    followers_amount = int(followers_amount[0].split(\" \")[0].replace(\",\", \"\"))\n",
    "\n",
    "    following_amount = await page.locator(\"text=following\").all_inner_texts()\n",
    "    following_amount = int(following_amount[0].split(\" \")[0].replace(\",\", \"\"))\n",
    "\n",
    "    await page.goto(f\"{url}/followers\")\n",
    "    sleep(4)\n",
    "\n",
    "    followers_names = await get_names(\n",
    "        page=page,\n",
    "        limit=followers_amount,\n",
    "        filename=\"followers_links.txt\",\n",
    "    )\n",
    "    print(f\"Followers: {len(followers_names)}\")\n",
    "\n",
    "    await page.goto(f\"{url}/following\")\n",
    "    sleep(4)\n",
    "    following_names = await get_names(\n",
    "        page=page,\n",
    "        limit=following_amount,\n",
    "        filename=\"following_links.txt\",\n",
    "    )\n",
    "    print(f\"Following: {len(following_names)}\")\n",
    "\n",
    "    not_following_me_back = following_names.difference(followers_names)\n",
    "    im_not_following_back = followers_names.difference(following_names)\n",
    "\n",
    "    print(f\"Not following me back: {len(not_following_me_back)}\")\n",
    "    save_names(f_names=not_following_me_back, filename=\"not_following_me_back.txt\")\n",
    "\n",
    "    print(f\"I'm not following back: {len(im_not_following_back)}\")\n",
    "    save_names(f_names=im_not_following_back, filename=\"im_not_following_back.txt\")\n",
    "\n",
    "    await context.close()\n",
    "    await browser.close()\n",
    "\n",
    "\n",
    "async def main():\n",
    "    async with async_playwright() as playwright:\n",
    "        await run(playwright)\n"
   ]
  },
  {
   "cell_type": "code",
   "execution_count": 3,
   "id": "2113f02c",
   "metadata": {},
   "outputs": [],
   "source": [
    "async with async_playwright() as playwright:\n",
    "    firefox = playwright.firefox\n",
    "    browser = await firefox.launch(headless=False)\n",
    "    context = await browser.new_context(storage_state=\"instagram.json\")\n",
    "    page = await context.new_page()\n",
    "    url = \"https://www.instagram.com/primetimetank_\"\n",
    "    await page.goto(url)"
   ]
  },
  {
   "cell_type": "code",
   "execution_count": 4,
   "id": "8e9a66ee",
   "metadata": {},
   "outputs": [
    {
     "data": {
      "text/plain": [
       "<BrowserType name=firefox executable_path=/home/tank/.cache/ms-playwright/firefox-1344/firefox/firefox>"
      ]
     },
     "execution_count": 4,
     "metadata": {},
     "output_type": "execute_result"
    }
   ],
   "source": [
    "firefox"
   ]
  },
  {
   "cell_type": "code",
   "execution_count": 82,
   "id": "a8b0d4ff",
   "metadata": {},
   "outputs": [
    {
     "data": {
      "text/plain": [
       "<Response url='https://www.instagram.com/primetimetank_/' request=<Request url='https://www.instagram.com/primetimetank_/' method='GET'>>"
      ]
     },
     "execution_count": 82,
     "metadata": {},
     "output_type": "execute_result"
    }
   ],
   "source": [
    "pr = await async_playwright().start()\n",
    "firefox = pr.firefox\n",
    "browser = await firefox.launch(headless=False)\n",
    "context = await browser.new_context(storage_state=\"instagram.json\")\n",
    "page = await context.new_page()\n",
    "url = \"https://www.instagram.com/primetimetank_\"\n",
    "await page.goto(url)"
   ]
  },
  {
   "cell_type": "code",
   "execution_count": 83,
   "id": "c91fae64",
   "metadata": {},
   "outputs": [],
   "source": [
    "followers_amount = await page.locator(\"text=followers\").all_inner_texts()\n",
    "followers_amount = int(followers_amount[0].split(\" \")[0].replace(\",\", \"\"))\n",
    "\n",
    "following_amount = await page.locator(\"text=following\").all_inner_texts()\n",
    "following_amount = int(following_amount[0].split(\" \")[0].replace(\",\", \"\"))"
   ]
  },
  {
   "cell_type": "code",
   "execution_count": 84,
   "id": "7500ed1e",
   "metadata": {},
   "outputs": [
    {
     "data": {
      "text/plain": [
       "(1286, 758)"
      ]
     },
     "execution_count": 84,
     "metadata": {},
     "output_type": "execute_result"
    }
   ],
   "source": [
    "followers_amount, following_amount"
   ]
  },
  {
   "cell_type": "code",
   "execution_count": 85,
   "id": "b09abead",
   "metadata": {},
   "outputs": [
    {
     "data": {
      "text/plain": [
       "<Response url='https://www.instagram.com/primetimetank_/followers/' request=<Request url='https://www.instagram.com/primetimetank_/followers/' method='GET'>>"
      ]
     },
     "execution_count": 85,
     "metadata": {},
     "output_type": "execute_result"
    }
   ],
   "source": [
    "await page.goto(f\"{url}/followers\")"
   ]
  },
  {
   "cell_type": "code",
   "execution_count": 86,
   "id": "3d5519f9",
   "metadata": {},
   "outputs": [
    {
     "name": "stdout",
     "output_type": "stream",
     "text": [
      "Followers: 1287\n"
     ]
    }
   ],
   "source": [
    "followers_names = await get_names(\n",
    "    page=page,\n",
    "    text=\"Followers\",\n",
    "    nth=-2,\n",
    "    limit=followers_amount,\n",
    "    filename=\"followers_links.txt\",\n",
    ")\n",
    "print(f\"Followers: {len(followers_names)}\")\n"
   ]
  },
  {
   "cell_type": "code",
   "execution_count": 91,
   "id": "38cbfb96",
   "metadata": {},
   "outputs": [
    {
     "data": {
      "text/plain": [
       "<Response url='https://www.instagram.com/primetimetank_/following/' request=<Request url='https://www.instagram.com/primetimetank_/following/' method='GET'>>"
      ]
     },
     "execution_count": 91,
     "metadata": {},
     "output_type": "execute_result"
    }
   ],
   "source": [
    "await page.goto(f\"{url}/following\")"
   ]
  },
  {
   "cell_type": "code",
   "execution_count": 92,
   "id": "1f3913ff",
   "metadata": {},
   "outputs": [
    {
     "name": "stdout",
     "output_type": "stream",
     "text": [
      "Following: 759\n"
     ]
    }
   ],
   "source": [
    "following_names = await get_names(\n",
    "    page=page,\n",
    "    text=\"Following\",\n",
    "    nth=3,\n",
    "    limit=following_amount,\n",
    "    filename=\"following_links.txt\",\n",
    ")\n",
    "print(f\"Following: {len(following_names)}\")"
   ]
  },
  {
   "cell_type": "code",
   "execution_count": 93,
   "id": "4d188533",
   "metadata": {},
   "outputs": [
    {
     "name": "stdout",
     "output_type": "stream",
     "text": [
      "Not following me back: 57\n",
      "I'm not following back: 585\n"
     ]
    }
   ],
   "source": [
    "not_following_me_back = following_names.difference(followers_names)\n",
    "im_not_following_back = followers_names.difference(following_names)\n",
    "\n",
    "print(f\"Not following me back: {len(not_following_me_back)}\")\n",
    "save_names(f_names=not_following_me_back, filename=\"not_following_me_back.txt\")\n",
    "\n",
    "print(f\"I'm not following back: {len(im_not_following_back)}\")\n",
    "save_names(f_names=im_not_following_back, filename=\"im_not_following_back.txt\")"
   ]
  },
  {
   "cell_type": "code",
   "execution_count": 94,
   "id": "002e79fc",
   "metadata": {},
   "outputs": [],
   "source": [
    "await context.close()\n",
    "await browser.close()"
   ]
  },
  {
   "cell_type": "code",
   "execution_count": null,
   "id": "948cf6e0",
   "metadata": {},
   "outputs": [],
   "source": []
  }
 ],
 "metadata": {
  "kernelspec": {
   "display_name": "Python 3 (ipykernel)",
   "language": "python",
   "name": "python3"
  },
  "language_info": {
   "codemirror_mode": {
    "name": "ipython",
    "version": 3
   },
   "file_extension": ".py",
   "mimetype": "text/x-python",
   "name": "python",
   "nbconvert_exporter": "python",
   "pygments_lexer": "ipython3",
   "version": "3.8.10"
  }
 },
 "nbformat": 4,
 "nbformat_minor": 5
}
